{
 "cells": [
  {
   "cell_type": "markdown",
   "metadata": {},
   "source": [
    "# **Selecting a neighborhood to open a restaurant in Chicago**"
   ]
  },
  {
   "cell_type": "markdown",
   "metadata": {},
   "source": [
    "## **Introduction to Business Plan**"
   ]
  },
  {
   "cell_type": "markdown",
   "metadata": {},
   "source": [
    "##### This report is focused on giving the people who may be interested in opening a restaurant in Chicago, the best location to start a new business"
   ]
  },
  {
   "cell_type": "markdown",
   "metadata": {},
   "source": [
    "## **Development of the problem**"
   ]
  },
  {
   "cell_type": "markdown",
   "metadata": {},
   "source": [
    "##### When facing this problem, some different options have to be considered to be able to give, at the end of the process, the correct selection to open a restaurant. We will have to look at the next points to determine the best location for the new business:\n",
    "\n",
    "\n",
    "\n",
    "1. What is the average GDP for each neighborhood?\n",
    "2. What is the crime rate over each neighborhood in Chicago?\n",
    "3. What is the price for renting or buying in each neighborhood?\n"
   ]
  },
  {
   "cell_type": "markdown",
   "metadata": {},
   "source": [
    "##### Those three factor will determine which is the optimum location to start a restaurant"
   ]
  },
  {
   "cell_type": "markdown",
   "metadata": {},
   "source": [
    "##### All the data will be collected from Chicago City Database and through an algorithm an assessment of each option will be produced in order to rate the alternatives and return the best one"
   ]
  },
  {
   "cell_type": "code",
   "execution_count": null,
   "metadata": {},
   "outputs": [],
   "source": []
  }
 ],
 "metadata": {
  "kernelspec": {
   "display_name": "Python",
   "language": "python",
   "name": "conda-env-python-py"
  },
  "language_info": {
   "codemirror_mode": {
    "name": "ipython",
    "version": 3
   },
   "file_extension": ".py",
   "mimetype": "text/x-python",
   "name": "python",
   "nbconvert_exporter": "python",
   "pygments_lexer": "ipython3",
   "version": "3.6.7"
  }
 },
 "nbformat": 4,
 "nbformat_minor": 4
}
